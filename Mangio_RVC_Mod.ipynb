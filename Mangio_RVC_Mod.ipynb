{
  "nbformat": 4,
  "nbformat_minor": 0,
  "metadata": {
    "colab": {
      "private_outputs": true,
      "provenance": [],
      "gpuType": "T4",
      "include_colab_link": true
    },
    "kernelspec": {
      "name": "python3",
      "display_name": "Python 3"
    },
    "language_info": {
      "name": "python"
    },
    "accelerator": "GPU"
  },
  "cells": [
    {
      "cell_type": "markdown",
      "metadata": {
        "id": "view-in-github",
        "colab_type": "text"
      },
      "source": [
        "<a href=\"https://colab.research.google.com/github/Blane187/Mangio-RVC-Mod/blob/main/Mangio_RVC_Mod.ipynb\" target=\"_parent\"><img src=\"https://colab.research.google.com/assets/colab-badge.svg\" alt=\"Open In Colab\"/></a>"
      ]
    },
    {
      "cell_type": "markdown",
      "source": [
        "# Mangio RVC Mod"
      ],
      "metadata": {
        "id": "RdkKRVwfwcNx"
      }
    },
    {
      "cell_type": "code",
      "execution_count": null,
      "metadata": {
        "cellView": "form",
        "id": "zbGMP1anEVPH"
      },
      "outputs": [],
      "source": [
        "#@title Clone From repo\n",
        "\n",
        "\n",
        "from google.colab import drive\n",
        "\n",
        "\n",
        "\n",
        "\n",
        "import codecs\n",
        "\n",
        "%cd /content/\n",
        "!mkdir /content/training\n",
        "%cd /content/training\n",
        "\n",
        "from IPython.display import clear_output, Javascript\n",
        "\n",
        "#wordarounds\n",
        "url=codecs.decode('uggcf://tvguho.pbz/Oynar187/Znatvb-EIP-Zbq.tvg','rot_13')\n",
        "\n",
        "# Clone\n",
        "\n",
        "!git clone $url . --quiet\n",
        "\n",
        "\n",
        "#drive.mount('/content/drive')\n",
        "\n",
        "\n",
        "clear_output()\n",
        "print(\"Clone Complete!\")"
      ]
    },
    {
      "cell_type": "code",
      "source": [
        "#@title Install Requirements and Models\n",
        "#@markdown ---\n",
        "#@markdown This cell will download and install neccessary requiments for the program to work properly\n",
        "#main requirements\n",
        "from IPython.display import clear_output, Javascript\n",
        "\n",
        "!apt-get -y install build-essential python3-dev ffmpeg\n",
        "!pip install --upgrade setuptools wheel pip\n",
        "!pip install --upgrade faiss-cpu==1.7.2 fairseq gradio==3.14.0 ffmpeg ffmpeg-python praat-parselmouth pyworld numba==0.56.4\n",
        "!pip install torch torchvision torchaudio\n",
        "clear_output()\n",
        "print(\"Main Requirements Comeplete\")\n",
        "\n",
        "import subprocess\n",
        "\n",
        "# Install additional requirements\n",
        "subprocess.run([\"pip\", \"install\", \"sounddevice\"])\n",
        "subprocess.run([\"apt-get\", \"install\", \"libportaudio2\"])\n",
        "subprocess.run([\"pip\", \"install\", \"noisereduce\"])\n",
        "subprocess.run([\"pip\", \"install\", \"mega.py\"])\n",
        "subprocess.run([\"pip\", \"install\", \"av\"])\n",
        "subprocess.run([\"pip\", \"install\", \"imjoy-elfinder\"])\n",
        "subprocess.run([\"pip\", \"install\", \"onnxruntime\"])\n",
        "\n",
        "# Clear output\n",
        "subprocess.run(\"clear\", shell=True)\n",
        "print(\"Additional Requirements Complete\")\n",
        "\n",
        "# Install requirements from requirements.txt\n",
        "subprocess.run([\"pip\", \"install\", \"-r\", \"requirements.txt\"])\n",
        "# subprocess.run([\"pip\", \"install\", \"gradio-client==0.8.1\"])\n",
        "\n",
        "\n",
        "dlpretrains = codecs.decode('uggcf://enj.tvguhohfrepbagrag.pbz/EIP-Cebwrpg/Ergevriny-onfrq-Ibvpr-Pbairefvba-JroHV/znva/gbbyf/qbjaybnq_zbqryf.cl','rot_13')\n",
        "!curl -LO $dlpretrains\n",
        "# !apt-get install aria2\n",
        "!python download_models.py\n",
        "!cp -r ../assets/* ../training/\n",
        "!rm -rf ../assets\n",
        "!curl -LO https://huggingface.co/Kit-Lemonfoot/RVC_DidntAsk/resolve/main/rmvpe.pt\n",
        "!curl -LO https://huggingface.co/Kit-Lemonfoot/RVC_DidntAsk/resolve/main/hubert_base.pt\n",
        "\n",
        "# !bash tools/dlmodels.sh < <(echo -ne '\\n')\n",
        "clear_output()\n",
        "\n",
        "\n",
        "\n",
        "# !mkdir -p /content/drive/MyDrive/mangio/logs/mute\n",
        "\n",
        "import shutil\n",
        "import os\n",
        "\n",
        "print(\"Program Requirements Comeplete\")\n",
        "print(\"Model Download Comeplete\")"
      ],
      "metadata": {
        "id": "gQ29CTCaG5EC",
        "cellView": "form"
      },
      "execution_count": null,
      "outputs": []
    },
    {
      "cell_type": "code",
      "source": [
        "#@title Start Running\n",
        "#@markdown ---\n",
        "#@markdown Run and wait till the urls show up.\n",
        "import os\n",
        "import time\n",
        "webapp=codecs.decode('vasre-jro.cl','rot_13')\n",
        "\n",
        "\n",
        "!python $webapp --pycmd python --colab"
      ],
      "metadata": {
        "cellView": "form",
        "id": "CKn1Ha9OH_pU"
      },
      "execution_count": null,
      "outputs": []
    }
  ]
}